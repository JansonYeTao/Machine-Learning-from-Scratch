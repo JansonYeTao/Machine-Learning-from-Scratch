{
 "cells": [
  {
   "cell_type": "code",
   "execution_count": null,
   "metadata": {},
   "outputs": [],
   "source": []
  },
  {
   "cell_type": "markdown",
   "metadata": {},
   "source": [
    "# Why we need normalization?\n",
    "\n",
    "Not just normalization, residual connection, model initialization, all of thee thing try to make sure that during the initial phase of training, the distributions of input and output features remain controlled. Additionally, promote efficient and stable gradient flow within the network by employing appropriate parameterization, normalization, and residual design.在训练开始阶段确保输入输出特征分布不要过于失控，并通过合适的参数化、标准化和残差设计，让梯度在网络中高效、稳定地流动。"
   ]
  },
  {
   "cell_type": "code",
   "execution_count": null,
   "metadata": {},
   "outputs": [],
   "source": []
  },
  {
   "cell_type": "raw",
   "metadata": {
    "vscode": {
     "languageId": "raw"
    }
   },
   "source": [
    "class SubLayerConnection(nn.Module):\n",
    "\n",
    "    def __init__(self, size=0.1, dropout_p=0.1):\n",
    "        super().__init__()\n",
    "        self.norm = LayerNorm(size)\n",
    "        self.dropout = nn.Dropout(p=dropout_p)\n",
    "\n",
    "    def forward(self, x, sublayer):\n",
    "        \"\"\"\n",
    "        https://spaces.ac.cn/archives/8620/comment-page-1#%E6%AE%8B%E5%B7%AE%E8%BF%9E%E6%8E%A5\n",
    "        post-norm => x_new = norm(x_old + f(x_old))\n",
    "        pre-norm => x_new = x_old + f(norm(x_old))\n",
    "\n",
    "        here we used pre-norm methods\n",
    "        \"\"\"\n",
    "        x_new = self.norm(x)\n",
    "        x_new = sublayer(x_new)\n",
    "        x_new = self.dropout(x_new)\n",
    "        return x + x_new\n"
   ]
  },
  {
   "cell_type": "code",
   "execution_count": null,
   "metadata": {},
   "outputs": [],
   "source": []
  },
  {
   "cell_type": "markdown",
   "metadata": {},
   "source": []
  },
  {
   "cell_type": "markdown",
   "metadata": {},
   "source": [
    "# Mini-Batch Normalization"
   ]
  },
  {
   "cell_type": "markdown",
   "metadata": {},
   "source": []
  },
  {
   "cell_type": "markdown",
   "metadata": {},
   "source": [
    "![image](https://www.pinecone.io/_next/image/?url=https%3A%2F%2Fcdn.sanity.io%2Fimages%2Fvr8gru94%2Fproduction%2F409b7645d3bdc19d267f6a6bea3bbf75f70636f7-800x535.png&w=1920&q=75)"
   ]
  },
  {
   "cell_type": "markdown",
   "metadata": {},
   "source": []
  },
  {
   "cell_type": "markdown",
   "metadata": {},
   "source": []
  },
  {
   "cell_type": "markdown",
   "metadata": {},
   "source": []
  },
  {
   "cell_type": "markdown",
   "metadata": {},
   "source": [
    "# Layer Normalization"
   ]
  },
  {
   "cell_type": "markdown",
   "metadata": {},
   "source": [
    "![image](https://www.pinecone.io/_next/image/?url=https%3A%2F%2Fcdn.sanity.io%2Fimages%2Fvr8gru94%2Fproduction%2F567b2a2d454f2da286ce3cbbe6ce4583a1e2417f-800x627.png&w=1920&q=75)"
   ]
  },
  {
   "cell_type": "markdown",
   "metadata": {},
   "source": []
  },
  {
   "cell_type": "markdown",
   "metadata": {},
   "source": []
  },
  {
   "cell_type": "markdown",
   "metadata": {},
   "source": [
    "# Normalization and Residual Connection\n",
    "- https://spaces.ac.cn/archives/8620/comment-page-1#%E6%AE%8B%E5%B7%AE%E8%BF%9E%E6%8E%A5\n",
    "\n",
    "```code\n",
    "class SubLayerConnection(nn.Module):\n",
    "\n",
    "    def __init__(self, size=0.1, dropout_p=0.1):\n",
    "        super().__init__()\n",
    "        self.norm = LayerNorm(size)\n",
    "        self.dropout = nn.Dropout(p=dropout_p)\n",
    "\n",
    "    def forward(self, x, sublayer):\n",
    "        \"\"\"\n",
    "        https://spaces.ac.cn/archives/8620/comment-page-1#%E6%AE%8B%E5%B7%AE%E8%BF%9E%E6%8E%A5\n",
    "        post-norm => x_new = norm(x_old + f(x_old))\n",
    "        pre-norm => x_new = x_old + f(norm(x_old))\n",
    "\n",
    "        here we used pre-norm methods\n",
    "        \"\"\"\n",
    "        x_new = self.norm(x)\n",
    "        x_new = sublayer(x_new)\n",
    "        x_new = self.dropout(x_new)\n",
    "        return x + x_new\n",
    "\n",
    "```"
   ]
  },
  {
   "cell_type": "markdown",
   "metadata": {},
   "source": []
  }
 ],
 "metadata": {
  "kernelspec": {
   "display_name": "aisera_nlp_dl",
   "language": "python",
   "name": "python3"
  },
  "language_info": {
   "name": "python",
   "version": "3.8.17"
  }
 },
 "nbformat": 4,
 "nbformat_minor": 2
}
