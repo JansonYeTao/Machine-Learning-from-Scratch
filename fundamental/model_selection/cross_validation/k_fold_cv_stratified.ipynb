{
 "cells": [
  {
   "cell_type": "markdown",
   "metadata": {},
   "source": [
    "# Stratified Cross Validation\n",
    "\n",
    "In many real-world scenarios, data can be imbalanced (e.g., 10% “positive” vs. 90% “negative”). In standard K-fold cross validation, if the split is done randomly, you might end up with folds that do not reflect the true class distribution—some folds might have very few or no positive samples, which can lead to misleading performance metrics."
   ]
  },
  {
   "cell_type": "code",
   "execution_count": 4,
   "metadata": {},
   "outputs": [],
   "source": [
    "import numpy as np\n",
    "\n",
    "from sklearn.datasets import load_iris"
   ]
  },
  {
   "cell_type": "code",
   "execution_count": 5,
   "metadata": {},
   "outputs": [],
   "source": [
    "iris = load_iris()\n",
    "X, y = iris.data, iris.target\n"
   ]
  },
  {
   "cell_type": "code",
   "execution_count": null,
   "metadata": {},
   "outputs": [
    {
     "data": {
      "text/plain": [
       "array([0, 1, 2])"
      ]
     },
     "execution_count": 19,
     "metadata": {},
     "output_type": "execute_result"
    }
   ],
   "source": [
    "labels = np.unique(y)\n"
   ]
  },
  {
   "cell_type": "code",
   "execution_count": 13,
   "metadata": {},
   "outputs": [],
   "source": [
    "X_with_y = np.column_stack((X, y))"
   ]
  },
  {
   "cell_type": "code",
   "execution_count": 22,
   "metadata": {},
   "outputs": [
    {
     "data": {
      "text/plain": [
       "array([[6.3, 3.3, 6. , 2.5, 2. ],\n",
       "       [5.8, 2.7, 5.1, 1.9, 2. ],\n",
       "       [7.1, 3. , 5.9, 2.1, 2. ],\n",
       "       [6.3, 2.9, 5.6, 1.8, 2. ],\n",
       "       [6.5, 3. , 5.8, 2.2, 2. ],\n",
       "       [7.6, 3. , 6.6, 2.1, 2. ],\n",
       "       [4.9, 2.5, 4.5, 1.7, 2. ],\n",
       "       [7.3, 2.9, 6.3, 1.8, 2. ],\n",
       "       [6.7, 2.5, 5.8, 1.8, 2. ],\n",
       "       [7.2, 3.6, 6.1, 2.5, 2. ],\n",
       "       [6.5, 3.2, 5.1, 2. , 2. ],\n",
       "       [6.4, 2.7, 5.3, 1.9, 2. ],\n",
       "       [6.8, 3. , 5.5, 2.1, 2. ],\n",
       "       [5.7, 2.5, 5. , 2. , 2. ],\n",
       "       [5.8, 2.8, 5.1, 2.4, 2. ],\n",
       "       [6.4, 3.2, 5.3, 2.3, 2. ],\n",
       "       [6.5, 3. , 5.5, 1.8, 2. ],\n",
       "       [7.7, 3.8, 6.7, 2.2, 2. ],\n",
       "       [7.7, 2.6, 6.9, 2.3, 2. ],\n",
       "       [6. , 2.2, 5. , 1.5, 2. ],\n",
       "       [6.9, 3.2, 5.7, 2.3, 2. ],\n",
       "       [5.6, 2.8, 4.9, 2. , 2. ],\n",
       "       [7.7, 2.8, 6.7, 2. , 2. ],\n",
       "       [6.3, 2.7, 4.9, 1.8, 2. ],\n",
       "       [6.7, 3.3, 5.7, 2.1, 2. ],\n",
       "       [7.2, 3.2, 6. , 1.8, 2. ],\n",
       "       [6.2, 2.8, 4.8, 1.8, 2. ],\n",
       "       [6.1, 3. , 4.9, 1.8, 2. ],\n",
       "       [6.4, 2.8, 5.6, 2.1, 2. ],\n",
       "       [7.2, 3. , 5.8, 1.6, 2. ],\n",
       "       [7.4, 2.8, 6.1, 1.9, 2. ],\n",
       "       [7.9, 3.8, 6.4, 2. , 2. ],\n",
       "       [6.4, 2.8, 5.6, 2.2, 2. ],\n",
       "       [6.3, 2.8, 5.1, 1.5, 2. ],\n",
       "       [6.1, 2.6, 5.6, 1.4, 2. ],\n",
       "       [7.7, 3. , 6.1, 2.3, 2. ],\n",
       "       [6.3, 3.4, 5.6, 2.4, 2. ],\n",
       "       [6.4, 3.1, 5.5, 1.8, 2. ],\n",
       "       [6. , 3. , 4.8, 1.8, 2. ],\n",
       "       [6.9, 3.1, 5.4, 2.1, 2. ],\n",
       "       [6.7, 3.1, 5.6, 2.4, 2. ],\n",
       "       [6.9, 3.1, 5.1, 2.3, 2. ],\n",
       "       [5.8, 2.7, 5.1, 1.9, 2. ],\n",
       "       [6.8, 3.2, 5.9, 2.3, 2. ],\n",
       "       [6.7, 3.3, 5.7, 2.5, 2. ],\n",
       "       [6.7, 3. , 5.2, 2.3, 2. ],\n",
       "       [6.3, 2.5, 5. , 1.9, 2. ],\n",
       "       [6.5, 3. , 5.2, 2. , 2. ],\n",
       "       [6.2, 3.4, 5.4, 2.3, 2. ],\n",
       "       [5.9, 3. , 5.1, 1.8, 2. ]])"
      ]
     },
     "execution_count": 22,
     "metadata": {},
     "output_type": "execute_result"
    }
   ],
   "source": [
    "X_with_y[X_with_y[:, -1] == 2]"
   ]
  },
  {
   "cell_type": "code",
   "execution_count": null,
   "metadata": {},
   "outputs": [],
   "source": [
    "import numpy as np\n",
    "\n",
    "\n",
    "def k_fold_cv(data, k):\n",
    "    \n",
    "    n = data.shape[0]\n",
    "    data = np.random.shuffle(data)\n",
    "    batch_size = n // k\n",
    "    \n",
    "    totals = []\n",
    "    for i in range(0, n, batch_size):\n",
    "        mask = np.ones(n, dtype=bool)\n",
    "        mask[i:i+batch_size] = False\n",
    "        \n",
    "        train_data = data[mask]\n",
    "        test_data = data[~mask]\n",
    "        totals.append(train_data, test_data)\n",
    "    return totals\n",
    "        \n",
    "\n",
    "def k_fold(data, k):\n",
    "    folds = []\n",
    "    n = data.shape[0]\n",
    "    np.random.shuffle(data)\n",
    "    \n",
    "    batch_size = n // k\n",
    "    \n",
    "    for i in range(0, n, batch_size):\n",
    "        mask = np.ones(n, dtype=bool)\n",
    "        mask[i:i+batch_size] = False\n",
    "        \n",
    "        train_data = data[mask]\n",
    "        test_data = data[mask]\n",
    "\n",
    "        folds.append(train_data, test_data)\n",
    "    return folds\n",
    "    \n",
    "\n",
    "def stratified_k_fold(data, k, shuffle=True, random_state=None):\n",
    "    \"\"\"\n",
    "    data: 2D array where the last column is the label.\n",
    "          shape = (num_samples, num_features + 1)\n",
    "    k:    number of folds\n",
    "    \"\"\"\n",
    "    # Optionally fix random seed\n",
    "    if random_state is not None:\n",
    "        np.random.seed(random_state)\n",
    "    \n",
    "    # Extract unique labels from the last column\n",
    "    labels = np.unique(data[:, -1])\n",
    "    \n",
    "    # For each of the k folds, we will collect a partial train set and a partial test set\n",
    "    # from each label, then concatenate them.\n",
    "    # Initialize a structure that will eventually hold k folds\n",
    "    # folds[i] = (list_of_train_arrays_across_labels, list_of_test_arrays_across_labels)\n",
    "    folds = [ ([], []) for _ in range(k) ]\n",
    "    \n",
    "    # 1) Split by label\n",
    "    for label in labels:\n",
    "        # Subset of data for this label\n",
    "        subset = data[data[:, -1] == label]\n",
    "        \n",
    "        # 2) Apply k_fold to this subset\n",
    "        #    We can reuse our corrected k_fold function, but we should not shuffle again inside it\n",
    "        #    if we already handle shuffling out here.\n",
    "        subset_folds = k_fold(subset, k, shuffle=False)  # or pass shuffle=True if you prefer\n",
    "        \n",
    "        # subset_folds is a list of (train_subset, test_subset) for each of k folds\n",
    "        # We'll merge them into the main folds array\n",
    "        for i, (train_part, test_part) in enumerate(subset_folds):\n",
    "            folds[i][0].append(train_part)  # add to train list\n",
    "            folds[i][1].append(test_part)   # add to test list\n",
    "    \n",
    "    # 3) Now each fold[i] has a list of train parts for each label and\n",
    "    #    a list of test parts for each label. We concatenate them:\n",
    "    final_folds = []\n",
    "    for i in range(k):\n",
    "        train_list, test_list = folds[i]\n",
    "        # train_list and test_list are lists of arrays\n",
    "        # across all labels (dog subset, cat subset, etc.)\n",
    "        train_data = np.concatenate(train_list, axis=0)\n",
    "        test_data  = np.concatenate(test_list, axis=0)\n",
    "        \n",
    "        final_folds.append((train_data, test_data))\n",
    "    \n",
    "    return final_folds\n",
    "\n",
    "        \n",
    "    \n",
    "    \n",
    "    \n",
    "    \n",
    "    \n",
    "    \n",
    "        \n",
    "        \n",
    "    "
   ]
  }
 ],
 "metadata": {
  "kernelspec": {
   "display_name": "dl-core-39",
   "language": "python",
   "name": "python3"
  },
  "language_info": {
   "codemirror_mode": {
    "name": "ipython",
    "version": 3
   },
   "file_extension": ".py",
   "mimetype": "text/x-python",
   "name": "python",
   "nbconvert_exporter": "python",
   "pygments_lexer": "ipython3",
   "version": "3.9.0"
  }
 },
 "nbformat": 4,
 "nbformat_minor": 2
}
