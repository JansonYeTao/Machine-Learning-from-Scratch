{
 "cells": [
  {
   "cell_type": "markdown",
   "metadata": {},
   "source": []
  },
  {
   "cell_type": "markdown",
   "metadata": {},
   "source": [
    "Bias: LOOCV is an almost unbiased estimate of the true generalization error in many theoretical contexts. K-fold can have a slight bias, but typically it is not large in practice—especially for 5-fold or 10-fold.\n",
    "Variance: LOOCV often has higher variance, which can overshadow any advantage of lower bias.\n",
    "Practical Result: Because of the higher variance, LOOCV estimates can be less stable and might mislead you about performance on truly unseen data. Therefore, simply having “almost no bias” does not guarantee better real-world estimates if the variance is large.\n"
   ]
  },
  {
   "cell_type": "markdown",
   "metadata": {},
   "source": [
    "<img src=\"https://upload.wikimedia.org/wikipedia/commons/thumb/4/4b/KfoldCV.gif/1597px-KfoldCV.gif\" width=\"750\" align=\"center\">\n"
   ]
  },
  {
   "cell_type": "code",
   "execution_count": null,
   "metadata": {},
   "outputs": [],
   "source": []
  },
  {
   "cell_type": "markdown",
   "metadata": {},
   "source": [
    "# LOOCV Can Have Higher Variance\n",
    "\n",
    "**LOOCV** uses nearly the entire dataset for training (n−1 samples out of n) for each fold, so every trained model is extremely similar to the others—only one sample differs.\n",
    "\n",
    "Small test sets (size = 1 per fold): The estimate on each fold is based on a single data point’s error. Hence each “fold error” can fluctuate quite a bit, leading to higher variance when you average them all.\n",
    "High correlation among folds: Since the training sets differ by only one sample, the learned models are highly correlated, which doesn’t necessarily reduce the variability of the final error estimate.\n",
    "\n",
    "\n",
    "- **Bias**: LOOCV is an almost unbiased estimate of the true generalization error in many theoretical contexts. K-fold can have a slight bias, but typically it is not large in practice—especially for 5-fold or 10-fold.\n",
    "  \n",
    "- **Variance**: LOOCV often has higher variance, which can overshadow any advantage of lower bias.\n",
    "\n",
    "\n",
    "# K-fold (e.g., 5-fold or 10-fold)\n",
    "\n",
    "Larger test sets (n/k): Each fold’s test error is an average over more data points (instead of a single one), which helps stabilize the estimate.\n",
    "\n",
    "Slightly smaller training sets (n − n/k): Each fold’s model is trained on fewer samples than LOOCV, but this often does not significantly harm the error estimate in practice.\n",
    "\n",
    "Lower variance: Because each fold’s test error is averaged over multiple points, the final mean error tends to have a lower variance.\n",
    "Commonly used: 5-fold or 10-fold CV are popular due to the good balance between a reliable estimate of out-of-sample error and reduced computational cost.\n",
    "\n",
    "\n",
    "- **Bias**: k-fold is an almost has higher bias\n",
    "- **Variance**:  k-fold often has lower variance, which can overshadow any advantage of high bias."
   ]
  },
  {
   "cell_type": "code",
   "execution_count": null,
   "metadata": {},
   "outputs": [],
   "source": [
    "\n",
    "import numpy as np\n",
    "np.random.seed(10)\n",
    "X = np.random.uniform(-100, 100, (100, 1))\n",
    "y = np.random.rand(100, 1)\n",
    "\n",
    "indices = np.arange(len(X))\n",
    "np.random.shuffle(indices)"
   ]
  },
  {
   "cell_type": "code",
   "execution_count": null,
   "metadata": {},
   "outputs": [
    {
     "name": "stdout",
     "output_type": "stream",
     "text": [
      "(95, 1) (95, 1)\n",
      "(5, 1) (5, 1)\n",
      "(95, 1) (95, 1)\n",
      "(5, 1) (5, 1)\n",
      "(95, 1) (95, 1)\n",
      "(5, 1) (5, 1)\n",
      "(95, 1) (95, 1)\n",
      "(5, 1) (5, 1)\n",
      "(95, 1) (95, 1)\n",
      "(5, 1) (5, 1)\n",
      "(95, 1) (95, 1)\n",
      "(5, 1) (5, 1)\n",
      "(95, 1) (95, 1)\n",
      "(5, 1) (5, 1)\n",
      "(95, 1) (95, 1)\n",
      "(5, 1) (5, 1)\n",
      "(95, 1) (95, 1)\n",
      "(5, 1) (5, 1)\n",
      "(95, 1) (95, 1)\n",
      "(5, 1) (5, 1)\n",
      "(95, 1) (95, 1)\n",
      "(5, 1) (5, 1)\n",
      "(95, 1) (95, 1)\n",
      "(5, 1) (5, 1)\n",
      "(95, 1) (95, 1)\n",
      "(5, 1) (5, 1)\n",
      "(95, 1) (95, 1)\n",
      "(5, 1) (5, 1)\n",
      "(95, 1) (95, 1)\n",
      "(5, 1) (5, 1)\n",
      "(95, 1) (95, 1)\n",
      "(5, 1) (5, 1)\n",
      "(95, 1) (95, 1)\n",
      "(5, 1) (5, 1)\n",
      "(95, 1) (95, 1)\n",
      "(5, 1) (5, 1)\n",
      "(95, 1) (95, 1)\n",
      "(5, 1) (5, 1)\n",
      "(95, 1) (95, 1)\n",
      "(5, 1) (5, 1)\n"
     ]
    }
   ],
   "source": [
    "batch_size = 5\n",
    "for i in range(0, len(X) - 1, batch_size):\n",
    "    fold_idx = indices[i:i+batch_size]\n",
    "    x_test, y_test = X[fold_idx], y[fold_idx]\n",
    "\n",
    "    mask = np.ones(len(X), dtype=bool)\n",
    "    mask[fold_idx] = 0\n",
    "\n",
    "    x_train, y_train = X[mask], y[mask]\n",
    "    print(x_train.shape, y_train.shape)\n",
    "    print(x_test.shape, y_test.shape)\n",
    "\n",
    "    break\n",
    "\n"
   ]
  },
  {
   "cell_type": "markdown",
   "metadata": {},
   "source": [
    "半个小时是在问k-folder validation 的各种问题，比如怎么做啊，为啥要用cross validation, bias/variance trade off, k 大了小了的影响，问的非常非常细，感觉很多是master上课时候的东西。有些真的是忘了。"
   ]
  },
  {
   "cell_type": "code",
   "execution_count": null,
   "metadata": {},
   "outputs": [],
   "source": [
    "def k_fold_cv(data, k):\n",
    "    \n",
    "    n = data.shape[0]\n",
    "    data = np.random.shuffle(data)\n",
    "    batch_size = n // k\n",
    "    \n",
    "    for i in range(0, n, batch_size):\n",
    "        mask = np.ones(n, dtype=bool)\n",
    "        mask[i:i+batch_size] = False\n",
    "        \n",
    "        train_data = data[mask]\n",
    "        test_data = data[~mask]\n",
    "        ...\n",
    "        \n",
    "        \n",
    "        \n",
    "    "
   ]
  }
 ],
 "metadata": {
  "kernelspec": {
   "display_name": "base",
   "language": "python",
   "name": "python3"
  },
  "language_info": {
   "codemirror_mode": {
    "name": "ipython",
    "version": 3
   },
   "file_extension": ".py",
   "mimetype": "text/x-python",
   "name": "python",
   "nbconvert_exporter": "python",
   "pygments_lexer": "ipython3",
   "version": "3.12.4"
  }
 },
 "nbformat": 4,
 "nbformat_minor": 2
}
