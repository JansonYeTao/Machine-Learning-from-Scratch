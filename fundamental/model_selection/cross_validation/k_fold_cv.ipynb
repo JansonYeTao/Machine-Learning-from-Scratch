{
 "cells": [
  {
   "cell_type": "markdown",
   "metadata": {},
   "source": []
  },
  {
   "cell_type": "markdown",
   "metadata": {},
   "source": []
  },
  {
   "cell_type": "markdown",
   "metadata": {},
   "source": [
    "<img src=\"https://upload.wikimedia.org/wikipedia/commons/thumb/4/4b/KfoldCV.gif/1597px-KfoldCV.gif\" width=\"750\" align=\"center\">\n"
   ]
  },
  {
   "cell_type": "code",
   "execution_count": 2,
   "metadata": {},
   "outputs": [],
   "source": [
    "import numpy as np"
   ]
  },
  {
   "cell_type": "code",
   "execution_count": 32,
   "metadata": {},
   "outputs": [],
   "source": [
    "\n",
    "np.random.seed(10)\n",
    "X = np.random.uniform(-100, 100, (100, 1))\n",
    "y = np.random.rand(100, 1)\n",
    "\n",
    "indices = np.arange(len(X))\n",
    "np.random.shuffle(indices)"
   ]
  },
  {
   "cell_type": "code",
   "execution_count": 33,
   "metadata": {},
   "outputs": [],
   "source": [
    "indices = np.arange(len(X))\n",
    "np.random.shuffle(indices)"
   ]
  },
  {
   "cell_type": "code",
   "execution_count": null,
   "metadata": {},
   "outputs": [
    {
     "name": "stdout",
     "output_type": "stream",
     "text": [
      "(95, 1) (95, 1)\n",
      "(5, 1) (5, 1)\n",
      "(95, 1) (95, 1)\n",
      "(5, 1) (5, 1)\n",
      "(95, 1) (95, 1)\n",
      "(5, 1) (5, 1)\n",
      "(95, 1) (95, 1)\n",
      "(5, 1) (5, 1)\n",
      "(95, 1) (95, 1)\n",
      "(5, 1) (5, 1)\n",
      "(95, 1) (95, 1)\n",
      "(5, 1) (5, 1)\n",
      "(95, 1) (95, 1)\n",
      "(5, 1) (5, 1)\n",
      "(95, 1) (95, 1)\n",
      "(5, 1) (5, 1)\n",
      "(95, 1) (95, 1)\n",
      "(5, 1) (5, 1)\n",
      "(95, 1) (95, 1)\n",
      "(5, 1) (5, 1)\n",
      "(95, 1) (95, 1)\n",
      "(5, 1) (5, 1)\n",
      "(95, 1) (95, 1)\n",
      "(5, 1) (5, 1)\n",
      "(95, 1) (95, 1)\n",
      "(5, 1) (5, 1)\n",
      "(95, 1) (95, 1)\n",
      "(5, 1) (5, 1)\n",
      "(95, 1) (95, 1)\n",
      "(5, 1) (5, 1)\n",
      "(95, 1) (95, 1)\n",
      "(5, 1) (5, 1)\n",
      "(95, 1) (95, 1)\n",
      "(5, 1) (5, 1)\n",
      "(95, 1) (95, 1)\n",
      "(5, 1) (5, 1)\n",
      "(95, 1) (95, 1)\n",
      "(5, 1) (5, 1)\n",
      "(95, 1) (95, 1)\n",
      "(5, 1) (5, 1)\n"
     ]
    }
   ],
   "source": [
    "batch_size = 5\n",
    "for i in range(0, len(X) - 1, batch_size):\n",
    "    fold_idx = indices[i:i+batch_size]\n",
    "    x_test, y_test = X[fold_idx], y[fold_idx]\n",
    "\n",
    "    mask = np.ones(len(X), dtype=bool)\n",
    "    mask[fold_idx] = 0\n",
    "\n",
    "    x_train, y_train = X[mask], y[mask]\n",
    "    print(x_train.shape, y_train.shape)\n",
    "    print(x_test.shape, y_test.shape)\n",
    "\n",
    "    break\n",
    "\n"
   ]
  },
  {
   "cell_type": "code",
   "execution_count": null,
   "metadata": {},
   "outputs": [],
   "source": []
  },
  {
   "cell_type": "code",
   "execution_count": 40,
   "metadata": {},
   "outputs": [
    {
     "ename": "ValueError",
     "evalue": "operands could not be broadcast together with shapes (100,) (5,) ",
     "output_type": "error",
     "traceback": [
      "\u001b[0;31m---------------------------------------------------------------------------\u001b[0m",
      "\u001b[0;31mValueError\u001b[0m                                Traceback (most recent call last)",
      "Cell \u001b[0;32mIn[40], line 1\u001b[0m\n\u001b[0;32m----> 1\u001b[0m indices \u001b[38;5;241m==\u001b[39m indices[\u001b[38;5;241m0\u001b[39m:\u001b[38;5;241m5\u001b[39m]\n",
      "\u001b[0;31mValueError\u001b[0m: operands could not be broadcast together with shapes (100,) (5,) "
     ]
    }
   ],
   "source": [
    "\n",
    "\n",
    "indices == indices[0:5]"
   ]
  },
  {
   "cell_type": "code",
   "execution_count": null,
   "metadata": {},
   "outputs": [],
   "source": []
  }
 ],
 "metadata": {
  "kernelspec": {
   "display_name": "base",
   "language": "python",
   "name": "python3"
  },
  "language_info": {
   "codemirror_mode": {
    "name": "ipython",
    "version": 3
   },
   "file_extension": ".py",
   "mimetype": "text/x-python",
   "name": "python",
   "nbconvert_exporter": "python",
   "pygments_lexer": "ipython3",
   "version": "3.12.4"
  }
 },
 "nbformat": 4,
 "nbformat_minor": 2
}
