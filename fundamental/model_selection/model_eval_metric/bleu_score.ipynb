{
 "cells": [
  {
   "cell_type": "markdown",
   "metadata": {
    "vscode": {
     "languageId": "plaintext"
    }
   },
   "source": [
    "# BLEU Score\n",
    "\n",
    "\n",
    "- Make sure you understand: precision: https://github.com/JansonYeTao/Machine-Learning-from-Scratch/blob/main/fundamental/model_selection/model_eval_metric/precision_recall.ipynb\n",
    "- https://www.youtube.com/watch?v=M05L1DhFqcw\n",
    "\n",
    "\n",
    "Basically the geometric mean with n-gram precision score n starts from 0 to n.\n",
    "\n",
    "\n",
    "Disadvantage:\n",
    "- does not count for the semantic meaning\n",
    "- Hard to compare with different tokenizer."
   ]
  },
  {
   "cell_type": "code",
   "execution_count": null,
   "metadata": {
    "vscode": {
     "languageId": "plaintext"
    }
   },
   "outputs": [],
   "source": []
  },
  {
   "cell_type": "code",
   "execution_count": null,
   "metadata": {
    "vscode": {
     "languageId": "plaintext"
    }
   },
   "outputs": [],
   "source": []
  }
 ],
 "metadata": {
  "language_info": {
   "name": "python"
  }
 },
 "nbformat": 4,
 "nbformat_minor": 2
}
