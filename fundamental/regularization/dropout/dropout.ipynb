{
 "cells": [
  {
   "cell_type": "markdown",
   "metadata": {},
   "source": [
    "# Dropout Intuition:\n",
    "\n",
    "\n",
    "一般我们会将dropout理解为“一种低成本的集成策略”，这是对的。具体过程大概可以这样理解。\n",
    "\n",
    "经过上述置零操作后，我们可以认为0的那部分是被丢弃了，丢失了一部分信息。然而虽然信息丢失了，但生活还得继续呀，不对，是训练还得继续，所以就逼着模型用剩下的信息去拟合目标了。然而每次dropout是随机的，我们就不能侧重于某些节点了。所以总的来说就是——每次逼着模型用少量的特征学习，每次被学习的特征有不同，那么就是说，每个特征都应该对模型的预测有所贡献（而不是侧重部分特征，导致过拟合）。\n",
    "\n",
    "最后预测的时候，就不dropout了，所以就等价于所有局部特征的平均（这次终于用上所有的信息了），理论上效果就变好了，过拟合也不严重了（因为风险平摊到了每个特征而不是部分特征上面）。https://kexue.fm/archives/4521\n",
    "\n",
    "Dropout is applied to the activations of the Hidden Layer during training. Preventing Co-Adaptation:\n",
    "\n",
    "- Co-adaptation occurs when neurons adjust their weights in a way that depends on the presence of other neurons. This can lead to overfitting, where the model performs well on training data but poorly on unseen data.\n",
    "\n",
    "- By randomly dropping activations, dropout ensures that neurons cannot rely on specific other neurons being present, promoting independent feature learning.\n",
    "\n",
    "Suppose we have 4 neurons at one layer, A, B, C, D. With some random unexpected initialization, it is possible that the weights of A & B are closed to zero. Imagine the following two situations:\n",
    "\n",
    "If we don’t have dropout, this layer only relay on neurons C & D to transform information to the next layer. So the neurons A & B might be too “lazy” to adjust its weight since there are C & D.\n",
    "\n",
    "If we set dropout = 0.5, then at each epoch, two neurons are dropped randomly. So it is possible that both C and D are dropped, so A & B have to transform information and adopt the gradients weights adjustment. (This make sure learned weight are evenly distributed to existed neuron)\n"
   ]
  },
  {
   "cell_type": "raw",
   "metadata": {
    "vscode": {
     "languageId": "raw"
    }
   },
   "source": [
    "Sequential(\n",
    "    (0): Flatten()\n",
    "    (1): Linear(in_features=784, out_features=256, bias=True)\n",
    "    (2): ReLU()\n",
    "    (3): Dropout(p=0.5, inplace=False) # ---> dropout after linear + activation\n",
    "    (4): Linear(in_features=256, out_features=256, bias=True)\n",
    "    (5): ReLU()\n",
    "    (6): Dropout(p=0.2, inplace=False)\n",
    "    (7): Linear(in_features=256, out_features=10, bias=True)\n",
    ")\n"
   ]
  },
  {
   "cell_type": "markdown",
   "metadata": {},
   "source": [
    "## Forward Pass\n",
    "### During Training:\n",
    "- Dropout randomly \"drops out\" (i.e., sets to zero) a fraction of the neurons' activations in a layer. This is achieved by generating a binary mask where each neuron is kept with a probability 𝑝\n",
    "(the dropout rate) and dropped with probability $1−𝑝$\n",
    "- Scaling: To maintain the expected value of the activations, the remaining (non-dropped) activations are scaled by $1/𝑝$. This ensures that the overall magnitude of the activations remains consistent between training and \n",
    "- in pytorch: model.train()\n",
    "\n",
    "\n",
    "### During Inference.\n",
    "- During Evaluation: Dropout is typically disabled, meaning all neurons are active, and no scaling is applied.\n",
    "- in pytorch model.eval()"
   ]
  },
  {
   "cell_type": "markdown",
   "metadata": {},
   "source": [
    "## Backward Pass\n",
    "\n",
    "Dropout Behavior:\n",
    "\n",
    "Recall that for training model order -> Forward pass -> loss -> Backward -> get gradient ....\n",
    "\n",
    "Gradient Flow: The same dropout mask used in the forward pass is applied to the gradients during the backward pass. This means that gradients corresponding to the dropped neurons are also zeroed out, ensuring that these neurons do not contribute to weight updates. (偷懒的人 w=> 0 被杀掉 lay off，不参与gradient update). The same mask used in forward pass will be applied. Only the neuron kept in forward pass will received the gradients update, neuron not kept will be frozen and no gradient update\n",
    "\n",
    "eg. if the first and last neurons of a layer (A, C) are dropped out in the first forward pass, a gradient is eventually calculated at the output and then backpropagated. When the second forward pass starts, a different set of neurons (B, D) will be dropped out. This is done by temporarily frozing their weights.\n",
    "\n",
    "\n",
    "\n",
    "Scaling: Similar to the forward pass, the gradients are scaled by $1/𝑝$ to account for the scaling applied during the forward pass."
   ]
  },
  {
   "cell_type": "markdown",
   "metadata": {},
   "source": [
    "![dropout](https://d2l.ai/_images/dropout2.svg)"
   ]
  },
  {
   "cell_type": "code",
   "execution_count": 1,
   "metadata": {},
   "outputs": [],
   "source": [
    "import torch"
   ]
  },
  {
   "cell_type": "code",
   "execution_count": null,
   "metadata": {},
   "outputs": [],
   "source": [
    "def dropout(X, rate):\n",
    "    if not (0 <= rate <= 1):\n",
    "        raise NotImplemented(\"invalid rate value\")\n",
    "    \n",
    "    if rate == 1:\n",
    "        return torch.zeros_like(X)\n",
    "    \n",
    "    mask = (torch.rand(X.shape) > rate) # binary mask with T/F\n",
    "    results = X * mask # randomly zero out value inside X matrix\n",
    "    # scales up to make sure expectation of neuron is same\n",
    "    # X = [1, 1, 1, 1, 1] with 5 neurons, p = 0.8\n",
    "    # for each neuron expect(X[0]) = 1, 0.8 to keep and 0.2 to drop \n",
    "    # so cur expected value of X[0] = 1 * 0.8 + 0 * 0.2 = 0.8 instead of 1\n",
    "    # to correct this  X[0] / p = 0.8 / 0.8 = 1 so expectation back to 1\n",
    "    results = results / rate\n",
    "    return results\n",
    "    "
   ]
  },
  {
   "cell_type": "code",
   "execution_count": 98,
   "metadata": {},
   "outputs": [
    {
     "data": {
      "text/plain": [
       "tensor([[ 0,  1,  2,  3,  4,  5,  6,  7],\n",
       "        [ 8,  9, 10, 11, 12, 13, 14, 15]])"
      ]
     },
     "execution_count": 98,
     "metadata": {},
     "output_type": "execute_result"
    }
   ],
   "source": [
    "X = torch.arange(16).reshape((2, 8))\n",
    "X"
   ]
  },
  {
   "cell_type": "code",
   "execution_count": 99,
   "metadata": {},
   "outputs": [
    {
     "data": {
      "text/plain": [
       "tensor([[ 0.,  2.,  4.,  0.,  8.,  0.,  0.,  0.],\n",
       "        [ 0.,  0., 20., 22.,  0.,  0.,  0.,  0.]])"
      ]
     },
     "execution_count": 99,
     "metadata": {},
     "output_type": "execute_result"
    }
   ],
   "source": [
    "X = dropout(X, 0.5)\n",
    "X"
   ]
  },
  {
   "cell_type": "code",
   "execution_count": null,
   "metadata": {},
   "outputs": [],
   "source": []
  },
  {
   "cell_type": "markdown",
   "metadata": {},
   "source": [
    "# Dropout in pyTorch"
   ]
  },
  {
   "cell_type": "code",
   "execution_count": null,
   "metadata": {},
   "outputs": [
    {
     "name": "stdout",
     "output_type": "stream",
     "text": [
      "Training Output with Dropout: tensor([[-0.1167],\n",
      "        [-0.2020],\n",
      "        [-0.3047],\n",
      "        [-0.1872],\n",
      "        [-0.0012]], grad_fn=<AddmmBackward0>)\n",
      "\n",
      "Training Loss: 1.78287672996521\n"
     ]
    }
   ],
   "source": [
    "import torch\n",
    "import torch.nn as nn\n",
    "import torch.optim as optim\n",
    "\n",
    "\n",
    "class SimpleModel(nn.Module):\n",
    "\n",
    "    def __init__(self):\n",
    "        super().__init__()\n",
    "        self.l1 = nn.Linear(10, 20)\n",
    "        self.relu = nn.ReLU()\n",
    "        self.dropout = nn.Dropout(0.3)\n",
    "        self.l2 = nn.Linear(20, 1)\n",
    "    \n",
    "    def forward(self, X):\n",
    "        x = self.l1(X)\n",
    "        x = self.relu(x)\n",
    "        x = self.dropout(x)\n",
    "        x = self.l2(x)\n",
    "        return x\n",
    "\n",
    "\n",
    "model = SimpleModel()\n",
    "model.train() # <------ Turn on dropout\n",
    "criterion = nn.MSELoss()\n",
    "optimizer = optim.Adam(model.parameters(), lr=0.001)\n",
    "\n",
    "train_data = torch.randn(5, 10) # shape = (5, 10)\n",
    "target_data = torch.randn(5, 1) # shape = (5, 1)\n",
    "\n",
    "# Forward pass\n",
    "output_train = model(train_data)\n",
    "loss_train = criterion(output_train, target_data)\n",
    "\n",
    "# Backward pass and optimization\n",
    "optimizer.zero_grad()\n",
    "loss_train.backward()\n",
    "optimizer.step()\n",
    "\n",
    "print(f\"Training Output with Dropout: {output_train}\")\n",
    "print(f\"\\nTraining Loss: {loss_train.item()})"
   ]
  },
  {
   "cell_type": "code",
   "execution_count": 108,
   "metadata": {},
   "outputs": [
    {
     "name": "stdout",
     "output_type": "stream",
     "text": [
      "\n",
      "Validation Output without Dropout:\n",
      "tensor([[-0.0591],\n",
      "        [ 0.0543],\n",
      "        [-0.0431],\n",
      "        [-0.0533],\n",
      "        [ 0.0093]])\n",
      "\n",
      "Validation Loss:\n",
      "1.2603604793548584\n"
     ]
    }
   ],
   "source": [
    "# set model to evaluation mode for validation and test\n",
    "model.eval()\n",
    "\n",
    "# Example validation data\n",
    "input_val = torch.randn(5, 10)\n",
    "target_val = torch.randn(5, 1)\n",
    "\n",
    "# Forward pass\n",
    "with torch.no_grad():\n",
    "    output_val = model(input_val)\n",
    "    loss_val = criterion(output_val, target_val)\n",
    "\n",
    "print(\"\\nValidation Output without Dropout:\")\n",
    "print(output_val)\n",
    "print(\"\\nValidation Loss:\")\n",
    "print(loss_val.item())"
   ]
  },
  {
   "cell_type": "markdown",
   "metadata": {},
   "source": [
    "# Dropout1D, Dropout2D, Dropout3D\n",
    "\n",
    "So far we mentioned dropout with no dimension got specified: Randomly zero out individual elements with probability. And the dropout process does not care about grouping by channels; it just randomly pick ou the elements anywhere in the tensor.\n",
    "\n",
    "\n",
    "- Dropout1d: Designed for data with a shape (N, C, L) (like a time series (audio) with multiple feature channels). When dropping, it zeros out entire channels (all positions along L) for each sample. Zeros out entire 1D lines (channels across length).\n",
    "\n",
    "- Dropout2d: For (N, C, H, W) data (like images). It zeros out entire feature maps (an entire 2D channel) at once. Zeros out the entire @d plane for each \n",
    "\n",
    "- Dropout3d: For (N, C, D, H, W) data (like 3D volumes or videos). It zeros out entire 3D \"volumes\" for a given channel."
   ]
  },
  {
   "cell_type": "markdown",
   "metadata": {},
   "source": [
    "## Dropout1D\n",
    "\n",
    "\n"
   ]
  },
  {
   "cell_type": "markdown",
   "metadata": {},
   "source": []
  },
  {
   "cell_type": "code",
   "execution_count": 16,
   "metadata": {},
   "outputs": [
    {
     "data": {
      "text/plain": [
       "tensor([[[0.4581, 0.4829, 0.3125, 0.6150],\n",
       "         [0.2139, 0.4118, 0.6938, 0.9693],\n",
       "         [0.6178, 0.3304, 0.5479, 0.4440]],\n",
       "\n",
       "        [[0.7041, 0.5573, 0.6959, 0.9849],\n",
       "         [0.2924, 0.4823, 0.6150, 0.4967],\n",
       "         [0.4521, 0.0575, 0.0687, 0.0501]]])"
      ]
     },
     "execution_count": 16,
     "metadata": {},
     "output_type": "execute_result"
    }
   ],
   "source": [
    "import torch\n",
    "\n",
    "import torch.nn as nn\n",
    "\n",
    "torch.random.manual_seed(10)\n",
    "x = torch.rand(2, 3, 4)\n",
    "x"
   ]
  },
  {
   "cell_type": "markdown",
   "metadata": {},
   "source": [
    "```python\n",
    "\n",
    "tensor(\n",
    "    [\n",
    "        [\n",
    "            [0.4581, 0.4829, 0.3125, 0.6150], # channel 0 for sequence 0\n",
    "            [0.2139, 0.4118, 0.6938, 0.9693], # channel 1 for sequence 0\n",
    "            [0.6178, 0.3304, 0.5479, 0.4440]  # channel 2 for sequence 0\n",
    "        ],\n",
    "        [\n",
    "            [0.7041, 0.5573, 0.6959, 0.9849], # channel 0 for sequence 1\n",
    "            [0.2924, 0.4823, 0.6150, 0.4967], # channel 1 for sequence 1\n",
    "            [0.4521, 0.0575, 0.0687, 0.0501]  # channel 2 for sequence 1\n",
    "        ]\n",
    "    ]\n",
    ")\n",
    "```"
   ]
  },
  {
   "cell_type": "code",
   "execution_count": null,
   "metadata": {},
   "outputs": [
    {
     "data": {
      "text/plain": [
       "tensor([[[0.9162, 0.9657, 0.6250, 1.2300],\n",
       "         [0.0000, 0.0000, 0.0000, 0.0000],\n",
       "         [0.0000, 0.0000, 0.0000, 0.0000]],\n",
       "\n",
       "        [[1.4082, 1.1145, 1.3917, 1.9699],\n",
       "         [0.0000, 0.0000, 0.0000, 0.0000],\n",
       "         [0.9042, 0.1150, 0.1374, 0.1001]]])"
      ]
     },
     "execution_count": 17,
     "metadata": {},
     "output_type": "execute_result"
    }
   ],
   "source": [
    "dropout = nn.Dropout1d(0.5)\n",
    "out = dropout(x)\n",
    "out"
   ]
  },
  {
   "cell_type": "code",
   "execution_count": null,
   "metadata": {},
   "outputs": [],
   "source": []
  },
  {
   "cell_type": "markdown",
   "metadata": {},
   "source": [
    "# Other Dropout tech\n",
    "- DropConnect is a variant of the traditional dropout technique introduced by Wan et al. in their 2013 paper, \"Regularization of Neural Networks using DropConnect\". Unlike standard dropout, which randomly drops activations, DropConnect randomly drops weights during training."
   ]
  },
  {
   "cell_type": "markdown",
   "metadata": {},
   "source": []
  }
 ],
 "metadata": {
  "kernelspec": {
   "display_name": "base",
   "language": "python",
   "name": "python3"
  },
  "language_info": {
   "codemirror_mode": {
    "name": "ipython",
    "version": 3
   },
   "file_extension": ".py",
   "mimetype": "text/x-python",
   "name": "python",
   "nbconvert_exporter": "python",
   "pygments_lexer": "ipython3",
   "version": "3.12.4"
  }
 },
 "nbformat": 4,
 "nbformat_minor": 2
}
