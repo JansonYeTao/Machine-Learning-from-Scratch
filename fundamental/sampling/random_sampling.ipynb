{
 "cells": [
  {
   "cell_type": "markdown",
   "metadata": {},
   "source": [
    "# The Random Sampling with Replacement\n",
    "\n",
    "Assumption: \n",
    "- Assume each number got selected at a equal weights (probability)\n",
    "- Assume we will not update the weight list\n",
    "\n",
    "quite easy to implement\n",
    "\n",
    "\n",
    "# The Random Sampling without Replacement\n",
    "- Designed to generate unique random numbers within a specified range (from 0 to n). Each call to the getRand method returns a random number that hasn't been returned before, ensuring that all numbers in the range are returned exactly once in a random order.\n",
    "- This is similar to shuffling a deck of cards and drawing one card at a time without replacement.\n",
    "\n",
    "Assumption: \n",
    "- Assume each number got selected at a equal weights (probability)\n",
    "- Assume we will not update the weight list\n",
    "\n",
    "Requirement:\n",
    "- **get_random_without_replacement** must be O(1)\n",
    "\n",
    "Related Leetcode:\n",
    "- https://leetcode.com/problems/insert-delete-getrandom-o1/\n",
    "- https://leetcode.com/problems/random-pick-with-weight/description/\n",
    "- 2.k种不同颜色的球，个数为[n1, n2, n3, ..., n_k]， 如何sample without replacement？要求sample operation time complexity log(k)"
   ]
  },
  {
   "cell_type": "markdown",
   "metadata": {},
   "source": []
  },
  {
   "cell_type": "markdown",
   "metadata": {
    "vscode": {
     "languageId": "raw"
    }
   },
   "source": [
    "# Naive Pseudocode Code:\n",
    "\n",
    "```python\n",
    "\n",
    "candidate = {0, 1, 2, 3, 4, 5, 6} # space: O(n)\n",
    "Loop:\n",
    "    candidate_list = list(candidate) # time: O(n) <-------- bottleneck\n",
    "    random_num = random.choice(candidate_list) # time: O(1)\n",
    "    candidate.remove(random_num) # time: O(1)\n",
    "\n",
    "here we maintain a set of num and we convert the set to list on the fly.\n",
    "```"
   ]
  },
  {
   "cell_type": "markdown",
   "metadata": {
    "vscode": {
     "languageId": "raw"
    }
   },
   "source": [
    "Since we do this conversion on the fly, this is not efficient.\n",
    "\n",
    "Trick: for candidate list, swamp the target number, and last item inside the candidate list,\n",
    "and pop the last item from the candidate list. \n",
    "\n",
    "However, swamp trick is not free, in order to swamp in a array, we need index of the num.\n",
    "We can easily get the last item index, but no way we get index of a random number at o(1) time.\n",
    "we can only achieve this with a hashmap where {num: num_idx}\n",
    "\n",
    "\n",
    "# Improved Pseudocode Code:\n",
    "```python\n",
    "candidate_list = [0, 1, 2, 3, 4, 5, 6]\n",
    "idx_by_num = {0:0, 1:1, 2:2, 3:3, 4:4, 5:5, 6:6}\n",
    "Loop:\n",
    "    random_num = random.choice(candidate_list) # time: O(1)\n",
    "\n",
    "    # remove from list with swamp. For swamping, we need index information:\n",
    "    rand_idx = idx_by_num[random_num]\n",
    "\n",
    "    last_val = candidate_list[-1]\n",
    "    candidate_list[rand_idx], candidate_list[-1] = candidate_list[-1], candidate_list[rand_idx] # time: O(1)\n",
    "    candidate_list.pop() # time: O(1)\n",
    "\n",
    "    # we need to update idx_by_num since 6 is no longer at position=6 anymore\n",
    "    idx_by_num[last_val] = rand_idx\n",
    "    idx_by_num.pop(random_num) # time: O(1)\n",
    "    \n",
    "    return random_num\n",
    "```"
   ]
  },
  {
   "cell_type": "code",
   "execution_count": null,
   "metadata": {},
   "outputs": [],
   "source": [
    "import random\n",
    "\n",
    "class RandomNumberGenerator:\n",
    "    \"\"\" without replacement\n",
    "\n",
    "    eg. random_num = 4\n",
    "    step1:\n",
    "        [0, 1, 2, 3, 4, 5, 6]\n",
    "    step2: list: swamp\n",
    "        [0, 1, 2, 3, 6, 5, 4]\n",
    "    step3: list: remove last item\n",
    "        [0, 1, 2, 3, 6, 5]\n",
    "    \"\"\"\n",
    "\n",
    "    def __init__(self, n):\n",
    "        self.n = n\n",
    "        self.nums = [num for num in range(n)]\n",
    "        self.idx_by_num = {num: num for num in range(n)}\n",
    "        \n",
    "    def get_random_without_replacement(self):\n",
    "        rand_num = random.choice(self.nums) # time: O(1)\n",
    "\n",
    "        # swamp: last item and rand_num\n",
    "        last_val = self.nums[-1]\n",
    "        rand_idx = self.idx_by_num[rand_num]\n",
    "        self.nums[rand_idx], self.nums[-1] = self.nums[-1], self.nums[rand_idx] # time: O(1)\n",
    "\n",
    "        # update idx_by_num\n",
    "        self.idx_by_num[last_val] = rand_idx # time: O(1)\n",
    "\n",
    "        # remove rand_num for nums and idx_by_num\n",
    "        self.nums.pop()  # time: O(1)\n",
    "        self.idx_by_num.pop(rand_num)  # time: O(1)\n",
    "\n",
    "        return rand_num\n",
    "\n"
   ]
  },
  {
   "cell_type": "markdown",
   "metadata": {},
   "source": [
    "We can confirm that all the operation on the get_random_without_replacement are O(1). And in this case, get_random_without_replacement itself is O(1) operation.\n",
    "\n",
    "To conclude: the entire purpose of dict mapping is that we need to store and index in order to swamp the random number and last number inside the list.\n",
    "\n",
    "Notice that we used a list and a separate dict which tracking the idex. However, it's possible to optimize your original implementation even further to reduce space usage while still maintaining O(1) time complexity for the get_random_without_replacement method. The key lies in eliminating the need for an additional dictionary by leveraging the properties of the list itself."
   ]
  },
  {
   "cell_type": "markdown",
   "metadata": {},
   "source": [
    "# Optimized Implementation: Shuffle\n",
    "Notes: Another idea to generate random number is that we can shuffle the array, and then go from left to the right to generate random number. In short, you can eliminate the dictionary by using shuffle. \n",
    "\n",
    "```python\n",
    "class RandomNumGenerator:\n",
    "\n",
    "    def __init__(self, n):\n",
    "        self.n_list = [i for i in range(n)]\n",
    "        shuffle(self.n_list) # assume shuffle in-place\n",
    "        self.count = 0\n",
    "    \n",
    "    def get_random_without_replacement(self):\n",
    "        rand_val = self.n_list[self.count]\n",
    "        self.count += 1 \n",
    "        return rand_val\n",
    "    \n",
    "```\n",
    "\n",
    "# Fisher–Yates shuffle\n",
    "This approach maintains a single list and uses index manipulation to ensure each number is selected exactly once in O(1) time per selection. -> https://en.wikipedia.org/wiki/Fisher%E2%80%93Yates_shuffle#Python_Implementation\n",
    "\n",
    "Notes: to shuffle an array we cannot achieve an time complexity smaller than O(n) since we need to move the every current element to another places, which means we need to touch all the element inside the array.\n",
    "\n",
    "\n",
    "```python\n",
    "import random \n",
    "\n",
    "def shuffle(n: int) -> list[int]:\n",
    "    \"\"\"Non-in-placement shuffle\"\"\"\n",
    "    numbers = list(range(n))\n",
    "    shuffled = []\n",
    "    while numbers:\n",
    "        idx = random.randint(0, len(numbers) - 1)\n",
    "        shuffled.append(numbers[idx])\n",
    "        numbers.pop(idx)\n",
    "    return shuffled\n",
    "```"
   ]
  },
  {
   "cell_type": "code",
   "execution_count": null,
   "metadata": {},
   "outputs": [],
   "source": []
  },
  {
   "cell_type": "markdown",
   "metadata": {},
   "source": [
    "# Random Sampling with Weights with Replacement\n",
    "\n",
    "What if we are give a list of number and a list of weights associated with that number?\n",
    "\n",
    "To continue on the Fisher–Yates shuffle approach, we can simply add equvilant more number in the array and to Fisher–Yates shuffle. eg.nums = [0, 1, 2, 3], weights=[0.01, 0.2, 0.79] will require a number of 79 3 inserted into candidate array which is infeasible.\n",
    "\n",
    "To random sampling a number with associated weight, we can leverage continuous cumulative distribution\n",
    "\n",
    "\n",
    "```python\n",
    "          A  B  C  D\n",
    "weight = [2, 5, 3, 4] -> [2, 7, 10, 14]\n",
    "\n",
    "{\n",
    "    [0, 2]:  A,\n",
    "    [2, 7]:  B,\n",
    "    [7, 10]: C,\n",
    "    [10,14]: D\n",
    "}\n",
    "\n",
    "\n",
    "```\n",
    "Now we can generate a random integer from uniform distribution between 0 and 14, lets say 13, and we need to find which range it falls into. In order to find the right range, you will need to do a linear probe to compare the start and end for the range.\n",
    "\n",
    "```python\n",
    "Number Line: 0 ---------------------- 4\n",
    "             |       |                |\n",
    "             0       1                4\n",
    "```\n",
    "\n",
    "\n",
    "However, prefix_sum is always increasing, then We do  binary search log(k) to find the right range.\n",
    "\n"
   ]
  },
  {
   "cell_type": "code",
   "execution_count": null,
   "metadata": {},
   "outputs": [],
   "source": []
  },
  {
   "cell_type": "markdown",
   "metadata": {},
   "source": [
    "# Optimized Weighted Sampling with Replacement\n",
    "\n",
    "- https://www.keithschwarz.com/darts-dice-coins/\n",
    "- Alias method: https://leetcode.com/problems/random-pick-with-weight/solutions/671439/python-smart-o-1-solution-with-detailed-explanation/"
   ]
  },
  {
   "cell_type": "code",
   "execution_count": null,
   "metadata": {},
   "outputs": [],
   "source": []
  },
  {
   "cell_type": "code",
   "execution_count": null,
   "metadata": {},
   "outputs": [],
   "source": []
  },
  {
   "cell_type": "code",
   "execution_count": null,
   "metadata": {},
   "outputs": [],
   "source": []
  },
  {
   "cell_type": "markdown",
   "metadata": {},
   "source": []
  },
  {
   "cell_type": "markdown",
   "metadata": {},
   "source": [
    "# Random Sampling with Weights without Replacement\n",
    "\n",
    "Alias Method is specifically designed for weighted sampling with replacement. It excels in scenarios where you need to perform numerous independent samples efficiently, maintaining constant-time O(1) performance for each selection. However, when it comes to weighted sampling without replacement, the Alias Method is not directly applicable. Let's delve deeper into this distinction and explore suitable alternatives for sampling without replacement.\n",
    "\n",
    "\n"
   ]
  },
  {
   "cell_type": "code",
   "execution_count": null,
   "metadata": {},
   "outputs": [],
   "source": []
  },
  {
   "cell_type": "code",
   "execution_count": null,
   "metadata": {},
   "outputs": [],
   "source": []
  },
  {
   "cell_type": "markdown",
   "metadata": {},
   "source": [
    "\n",
    "# Random Sampling from Data Stream\n",
    "- Reservoir Sampling\n"
   ]
  },
  {
   "cell_type": "markdown",
   "metadata": {},
   "source": []
  }
 ],
 "metadata": {
  "kernelspec": {
   "display_name": "base",
   "language": "python",
   "name": "python3"
  },
  "language_info": {
   "codemirror_mode": {
    "name": "ipython",
    "version": 3
   },
   "file_extension": ".py",
   "mimetype": "text/x-python",
   "name": "python",
   "nbconvert_exporter": "python",
   "pygments_lexer": "ipython3",
   "version": "3.12.4"
  }
 },
 "nbformat": 4,
 "nbformat_minor": 2
}
