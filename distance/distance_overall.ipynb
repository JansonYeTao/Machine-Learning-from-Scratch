{
 "cells": [
  {
   "cell_type": "markdown",
   "metadata": {},
   "source": [
    "# Formalizing the Distance Matrix Between Two Matrices\n",
    "\n",
    "Let's formalize the concept of the **distance matrix** between two matrices \\( A \\) and \\( B \\).\n",
    "You can think of this as outer product as well.\n",
    "\n",
    "### Given:\n",
    "\n",
    "$$\n",
    "\\begin{aligned}\n",
    "\\text{1.} \\quad & \\textbf{Matrix } A: \\text{ An } m \\times d \\text{ matrix} \\\\\n",
    "& A = \\begin{bmatrix}\n",
    "\\mathbf{a}_1 \\\\\n",
    "\\mathbf{a}_2 \\\\\n",
    "\\vdots \\\\\n",
    "\\mathbf{a}_m\n",
    "\\end{bmatrix} \\quad \\text{where each } \\mathbf{a}_i \\text{ is a row vector in } \\mathbb{R}^d \\\\\n",
    "\\text{2.} \\quad & \\textbf{Matrix } B: \\text{ An } n \\times d \\text{ matrix} \\\\\n",
    "& B = \\begin{bmatrix}\n",
    "\\mathbf{b}_1 \\\\\n",
    "\\mathbf{b}_2 \\\\\n",
    "\\vdots \\\\\n",
    "\\mathbf{b}_n\n",
    "\\end{bmatrix} \\quad \\text{where each row vector } \\mathbf{b}_j \\text{ is in } \\mathbb{R}^d\n",
    "\\end{aligned}\n",
    "$$\n",
    "\n",
    "### Distance Matrix \\( D \\):\n",
    "\n",
    "The **distance matrix** $D$ is an $m \\times n$ matrix where each element $D_{i,j}$ represents the distance between the $i$-th row vector of \\( A \\) and the \\( j \\)-th row vector of \\( B \\).\n",
    "\n",
    "$$\n",
    "D = \\begin{bmatrix}\n",
    "D_{1,1} & D_{1,2} & \\cdots & D_{1,n} \\\\\n",
    "D_{2,1} & D_{2,2} & \\cdots & D_{2,n} \\\\\n",
    "\\vdots & \\vdots & \\ddots & \\vdots \\\\\n",
    "D_{m,1} & D_{m,2} & \\cdots & D_{m,n}\n",
    "\\end{bmatrix}\n",
    "$$\n",
    "\n",
    "### Mathematical Definition of Each Element $D_{i,j}$:\n",
    "\n",
    "Each element $D_{i,j}$ is defined as the **Euclidean distance** between \\( \\mathbf{a}_i \\) and \\( \\mathbf{b}_j \\):\n",
    "\n",
    "$$\n",
    "\\begin{aligned}\n",
    "\\text{1.} \\quad & D_{i,j} = \\| \\mathbf{a}_i - \\mathbf{b}_j \\|_2 \\\\\n",
    "& = \\sqrt{(a_{i,1} - b_{j,1})^2 + (a_{i,2} - b_{j,2})^2 + \\cdots + (a_{i,d} - b_{j,d})^2}\n",
    "\\end{aligned}\n",
    "$$\n",
    "\n",
    "Where:\n",
    "$$\n",
    "\\begin{aligned}\n",
    "\\text{1.} \\quad & \\mathbf{a}_i = [a_{i,1}, a_{i,2}, \\dots, a_{i,d}] \\text{ is the } i\\text{-th row of matrix } A. \\\\\n",
    "\\text{2.} \\quad & \\mathbf{b}_j = [b_{j,1}, b_{j,2}, \\dots, b_{j,d}] \\text{ is the } j\\text{-th row of matrix } B. \\\\\n",
    "\\text{3.} \\quad & \\| \\cdot \\|_2 \\text{ denotes the Euclidean (L2) norm.}\n",
    "\\end{aligned}\n",
    "$$\n",
    "\n",
    "### Applying to Your Example:\n",
    "\n",
    "Given your matrices \\( A \\) and \\( B \\):\n",
    "\n",
    "$$\n",
    "A = \\begin{bmatrix}\n",
    "1 & 2 \\\\\n",
    "3 & 4 \\\\\n",
    "5 & 6 \\\\\n",
    "6 & 7\n",
    "\\end{bmatrix} \\quad (4 * 2)\n",
    "$$\n",
    "\n",
    "$$\n",
    "B = \\begin{bmatrix}\n",
    "7 & 8 \\\\\n",
    "9 & 10 \\\\\n",
    "0 & 1\n",
    "\\end{bmatrix} \\quad (3 * 2)\n",
    "$$\n",
    "\n",
    "The distance matrix \\( D \\) will be a \\( 4 \\times 3 \\) matrix where each element \\( D_{i,j} \\) is calculated as:\n",
    "\n",
    "$$\n",
    "D_{i,j} = \\sqrt{(A_{i,1} - B_{j,1})^2 + (A_{i,2} - B_{j,2})^2}\n",
    "$$\n",
    "\n",
    "For example:\n",
    "\n",
    "$$\n",
    "\\begin{aligned}\n",
    "\\text{1.} \\quad & \\text{Distance between } \\mathbf{a}_1 = [1, 2] \\text{ and } \\mathbf{b}_1 = [7, 8] \\\\\n",
    "& D_{1,1} = \\sqrt{(1-7)^2 + (2-8)^2} = \\sqrt{36 + 36} = \\sqrt{72} \\approx 8.485 \\\\\n",
    "\\text{2.} \\quad & \\text{Distance between } \\mathbf{a}_2 = [3, 4] \\text{ and } \\mathbf{b}_3 = [0, 1] \\\\\n",
    "& D_{2,3} = \\sqrt{(3-0)^2 + (4-1)^2} = \\sqrt{9 + 9} = \\sqrt{18} \\approx 4.243 \\\\\n",
    "\\end{aligned}\n",
    "$$\n",
    "\n",
    "And so on for each element of \\( D \\).\n",
    "\n",
    "### Summary:\n",
    "\n",
    "$$\n",
    "\\begin{aligned}\n",
    "\\text{1.} \\quad & \\text{Rows of } D \\text{ correspond to the rows of matrix } A. \\\\\n",
    "\\text{2.} \\quad & \\text{Columns of } D \\text{ correspond to the rows of matrix } B. \\\\\n",
    "\\text{3.} \\quad & \\text{Each element } D_{i,j} \\text{ represents the Euclidean distance between the } i\\text{-th row of } A \\text{ and the } j\\text{-th row of } B.\n",
    "\\end{aligned}\n",
    "$$\n",
    "\n",
    "This formalization allows you to understand precisely how each entry in the distance matrix relates to the original data matrices \\( A \\) and \\( B \\).\n"
   ]
  },
  {
   "cell_type": "markdown",
   "metadata": {},
   "source": [
    "# Question: Diff Between Pairwise Distance and Loss Functions:\n",
    "\n",
    "If you learned loss function with some basic ml experience. You might wonder the difference between distance and loss. **pairwise distances** and **loss functions** are distinct concepts in the realms of data analysis and machine learning, although they can sometimes intersect or be used together depending on the context. Understanding their differences and how they relate can help clarify their roles in various applications.\n",
    "\n",
    "## 1. Definitions\n",
    "\n",
    "### a. Pairwise Distance\n",
    "\n",
    "**Pairwise distance** refers to the computation of distances between all possible pairs of points in a dataset. It is a fundamental concept in areas like clustering, nearest neighbor searches, and similarity measurements.\n",
    "\n",
    "- **Purpose:** To quantify the similarity or dissimilarity between data points.\n",
    "- **Applications:** Clustering algorithms (e.g., K-Means, Hierarchical Clustering), nearest neighbor algorithms (e.g., K-Nearest Neighbors), and visualization techniques (e.g., Multidimensional Scaling).\n",
    "\n",
    "### b. Loss Function\n",
    "\n",
    "A **loss function** (also known as a cost function) is a function that measures the discrepancy between the predicted values by a model and the actual target values. It is a crucial component in the training of machine learning models, guiding the optimization process to improve model performance.\n",
    "\n",
    "- **Purpose:** To quantify how well or poorly a model's predictions align with the actual data.\n",
    "- **Applications:** Training machine learning models (e.g., Linear Regression, Neural Networks, Support Vector Machines), evaluating model performance."
   ]
  },
  {
   "cell_type": "markdown",
   "metadata": {},
   "source": [
    "## 2. Key Differences\n",
    "\n",
    "| Aspect                 | Pairwise Distance                             | Loss Function                                       |\n",
    "|------------------------|-----------------------------------------------|-----------------------------------------------------|\n",
    "| **Primary Purpose**    | Measure similarity/dissimilarity between data points | Measure prediction error to guide model training     |\n",
    "| **Typical Use Cases**  | Clustering, similarity searches, dimensionality reduction | Model optimization, training, evaluation           |\n",
    "| **Nature**             | Often used as a feature or metric in algorithms | Used as an objective to minimize or maximize during training |\n",
    "| **Examples**           | Euclidean distance, Manhattan distance, Cosine similarity | Mean Squared Error (MSE), Cross-Entropy Loss, Hinge Loss |\n",
    "| **Data shape**           | Will be like matrix shape | Will be mostly like be single numerical value but with exception |\n",
    "\n",
    "\n",
    "## 3. Relationship and Overlaps\n",
    "\n",
    "While pairwise distances and loss functions serve different primary purposes, there are scenarios where they intersect:\n",
    "\n",
    "### a. Distance-Based Loss Functions\n",
    "\n",
    "Some loss functions are inherently based on distance metrics. In such cases, the concept of pairwise distance is integral to how the loss is computed.\n",
    "\n",
    "- **Examples:**\n",
    "  - **Mean Squared Error (MSE):** Measures the average squared Euclidean distance between predicted and actual values.\n",
    "    \n",
    "    $$\n",
    "    \\text{MSE} = \\frac{1}{n} \\sum_{i=1}^{n} (y_i - \\hat{y}_i)^2\n",
    "    $$\n",
    "  \n",
    "  - **Cosine Similarity Loss:** Uses the cosine of the angle between predicted and actual vectors.\n",
    "  \n",
    "    $$\n",
    "    \\text{Loss} = 1 - \\frac{\\mathbf{A} \\cdot \\mathbf{B}}{\\|\\mathbf{A}\\| \\|\\mathbf{B}\\|}\n",
    "    $$\n",
    "  \n",
    "  - **Contrastive Loss:** Utilizes pairwise distances between pairs of data points to learn embeddings where similar points are closer and dissimilar points are farther apart.\n",
    "  \n",
    "    $$\n",
    "    \\text{Loss} = y \\cdot D^2 + (1 - y) \\cdot \\max(0, \\text{margin} - D)^2\n",
    "    $$\n",
    "    \n",
    "    where $D$ is the distance between a pair of points, and $y$ indicates whether the pair is similar or dissimilar.\n",
    "### b. Pairwise Distances in Model Evaluation\n",
    "\n",
    "Pairwise distances can also be used to evaluate certain aspects of model performance, especially in tasks involving similarity or ranking.\n",
    "\n",
    "- **Examples:**\n",
    "  - **k-Nearest Neighbors (k-NN) Classification:** Relies on pairwise distances to classify data points based on their neighbors.\n",
    "  - **Clustering Validation Metrics:** Use pairwise distances to assess the quality of clusters (e.g., Silhouette Score).\n"
   ]
  },
  {
   "cell_type": "markdown",
   "metadata": {},
   "source": [
    "\n",
    "# When to Use Each\n",
    "\n",
    "a. Use **Pairwise Distances** When:\n",
    "\n",
    "You need to measure similarity or dissimilarity between data points.\n",
    "Performing clustering or nearest neighbor searches.\n",
    "Visualizing data relationships in reduced dimensions.\n",
    "\n",
    "b. Use **Loss Functions** When:\n",
    "\n",
    "Training machine learning models to optimize their predictive performance.\n",
    "Quantifying the error between predictions and actual outcomes.\n",
    "Guiding the optimization algorithms (e.g., gradient descent) during model training."
   ]
  },
  {
   "cell_type": "code",
   "execution_count": 1,
   "metadata": {},
   "outputs": [],
   "source": [
    "import numpy as np\n",
    "from scipy.spatial import distance_matrix"
   ]
  },
  {
   "cell_type": "code",
   "execution_count": 4,
   "metadata": {},
   "outputs": [
    {
     "data": {
      "text/plain": [
       "array([[ 8.48528137, 11.3137085 ,  1.41421356],\n",
       "       [ 5.65685425,  8.48528137,  4.24264069],\n",
       "       [ 2.82842712,  5.65685425,  7.07106781],\n",
       "       [ 1.41421356,  4.24264069,  8.48528137]])"
      ]
     },
     "execution_count": 4,
     "metadata": {},
     "output_type": "execute_result"
    }
   ],
   "source": [
    "A = np.array(\n",
    "    [\n",
    "        [1, 2],\n",
    "        [3, 4],\n",
    "        [5, 6],\n",
    "        [6, 7]\n",
    "    ]\n",
    ")\n",
    "B = np.array(\n",
    "    [\n",
    "        [7, 8], [9, 10], [0, 1]\n",
    "    ]\n",
    ")\n",
    "# A: (4, 2) and B (3, 2) ---> D (4, 3)\n",
    "D = distance_matrix(A, B) # pairwise distance between matrix A and matrix B\n",
    "D\n",
    "\n",
    "# to calculate the pairwise distance a native way is to do triple loop O(n^3) super slow.\n",
    "# for each row_a in A: # O(n)\n",
    "#   for each row_b in B: # O(n)\n",
    "#        dis(row_a, row_b) # iterate through both r_a and r_b O(n)\n",
    "\n",
    "# see here for related leetcode: https://leetcode.com/problems/dot-product-of-two-sparse-vectors/description/"
   ]
  },
  {
   "cell_type": "code",
   "execution_count": 9,
   "metadata": {},
   "outputs": [
    {
     "data": {
      "text/plain": [
       "array([2, 2, 0, 0])"
      ]
     },
     "execution_count": 9,
     "metadata": {},
     "output_type": "execute_result"
    }
   ],
   "source": [
    "np.argmin(D, axis=1)"
   ]
  },
  {
   "cell_type": "code",
   "execution_count": null,
   "metadata": {},
   "outputs": [
    {
     "data": {
      "text/plain": [
       "array([[ 8.48528137, 11.3137085 ,  1.41421356],\n",
       "       [ 5.65685425,  8.48528137,  4.24264069],\n",
       "       [ 2.82842712,  5.65685425,  7.07106781],\n",
       "       [ 1.41421356,  4.24264069,  8.48528137]])"
      ]
     },
     "execution_count": 10,
     "metadata": {},
     "output_type": "execute_result"
    }
   ],
   "source": [
    "# see here to see how to leverage: numpy broadcasting and vectorization:\n",
    "# 1. https://jbencook.com/pairwise-distance-in-numpy/\n",
    "# 2. https://sparrow.dev/pairwise-distance-in-numpy/\n",
    "# 3. https://github.com/eth-cscs/PythonHPC/blob/master/numpy/02-broadcasting.ipynb\n",
    "np.linalg.norm(A[:, None, :] - B[None, :, :], axis=-1)"
   ]
  },
  {
   "cell_type": "code",
   "execution_count": null,
   "metadata": {},
   "outputs": [],
   "source": []
  }
 ],
 "metadata": {
  "kernelspec": {
   "display_name": "base",
   "language": "python",
   "name": "python3"
  },
  "language_info": {
   "codemirror_mode": {
    "name": "ipython",
    "version": 3
   },
   "file_extension": ".py",
   "mimetype": "text/x-python",
   "name": "python",
   "nbconvert_exporter": "python",
   "pygments_lexer": "ipython3",
   "version": "3.12.4"
  }
 },
 "nbformat": 4,
 "nbformat_minor": 2
}
