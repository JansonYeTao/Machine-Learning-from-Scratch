{
 "cells": [
  {
   "cell_type": "code",
   "execution_count": 1,
   "metadata": {},
   "outputs": [],
   "source": [
    "import numpy as np\n",
    "\n",
    "from scipy.spatial import distance_matrix\n",
    "\n",
    "from sklearn.datasets._samples_generator import make_blobs\n",
    "\n",
    "import matplotlib.pyplot as plt"
   ]
  },
  {
   "cell_type": "markdown",
   "metadata": {},
   "source": [
    "https://www.youtube.com/watch?v=4b5d3muPQmA"
   ]
  },
  {
   "cell_type": "code",
   "execution_count": 129,
   "metadata": {},
   "outputs": [],
   "source": [
    "X, y = make_blobs(n_samples=300, n_features=2)"
   ]
  },
  {
   "cell_type": "code",
   "execution_count": 126,
   "metadata": {},
   "outputs": [],
   "source": [
    "def k_means(X: np.array, K: int, max_iter: int, threshold: float = 0.01, seed: float = 0):\n",
    "    \"\"\"\n",
    "    make means as centroids\n",
    "    \n",
    "    \"\"\"\n",
    "    \n",
    "    n, p = X.shape[0], X.shape[1]\n",
    "    rand_idx = np.random.choice(range(n), size = K, replace=False)\n",
    "    centroid = X[rand_idx]\n",
    "\n",
    "\n",
    "\n",
    "    for _ in range(max_iter):\n",
    "        distance = distance_matrix(X, centroid) # X (n, p), centroid (k, p) -> (n, k)\n",
    "        cluster_ids = np.argmin(distance, axis=1)\n",
    "        if np.linalg.norm(distance - prev_distance) <= threshold:\n",
    "            break\n",
    "\n",
    "        # calculate the new centroid based on the mean for each cluster\n",
    "        for k in range(K):\n",
    "            subset = X[cluster_ids == k]\n",
    "            centroid[k, :] = np.mean(subset, axis=0) # update centroid each row with new mean\n",
    "\n",
    "        prev_distance = distance\n",
    "    \n",
    "    \n",
    "    return centroid, cluster_ids"
   ]
  },
  {
   "cell_type": "markdown",
   "metadata": {},
   "source": []
  }
 ],
 "metadata": {
  "kernelspec": {
   "display_name": "notion-llm",
   "language": "python",
   "name": "python3"
  },
  "language_info": {
   "codemirror_mode": {
    "name": "ipython",
    "version": 3
   },
   "file_extension": ".py",
   "mimetype": "text/x-python",
   "name": "python",
   "nbconvert_exporter": "python",
   "pygments_lexer": "ipython3",
   "version": "3.9.19"
  }
 },
 "nbformat": 4,
 "nbformat_minor": 2
}
