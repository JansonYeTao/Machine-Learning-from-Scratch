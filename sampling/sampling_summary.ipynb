{
 "cells": [
  {
   "cell_type": "raw",
   "metadata": {
    "vscode": {
     "languageId": "raw"
    }
   },
   "source": [
    "\n",
    "Start\n",
    "│\n",
    "├───> Do you need Uniform Sampling or Weighted Sampling?\n",
    "│        │\n",
    "│        ├── Uniform Sampling\n",
    "│        │      │\n",
    "│        │      ├── Is dataset small to medium and static?\n",
    "│        │      │        ├── Yes: Use Fisher-Yates Shuffle\n",
    "│        │      │  \n",
    "│        │      │-- Is dataset large or a data stream?\n",
    "│        │      │        ├── Yes: Use Standard Reservoir Sampling\n",
    "│        │      │               \n",
    "│        │\n",
    "│        └── Weighted Sampling\n",
    "│               │\n",
    "│               ├── Are weights static or dynamic?\n",
    "│                        │\n",
    "│                        ├── Static Weights\n",
    "│                        │       ├── Do you need O(1) sampling time?\n",
    "│                        │       │        ├── Yes: Use Alias Method\n",
    "│                        │       │        └── No: Use Binary Search with Cumulative Distribution\n",
    "│                        │\n",
    "│                        └── Dynamic Weights\n",
    "│                               ├── Do you need efficient weight updates and sampling?\n",
    "│                                        ├── Yes: Use Binary Indexed Trees or Segment Trees\n",
    "│                                        └── No: Use Binary Search with Cumulative Distribution\n",
    "│               \n",
    "│\n",
    "End\n"
   ]
  },
  {
   "cell_type": "markdown",
   "metadata": {},
   "source": []
  }
 ],
 "metadata": {
  "kernelspec": {
   "display_name": "base",
   "language": "python",
   "name": "python3"
  },
  "language_info": {
   "codemirror_mode": {
    "name": "ipython",
    "version": 3
   },
   "file_extension": ".py",
   "mimetype": "text/x-python",
   "name": "python",
   "nbconvert_exporter": "python",
   "pygments_lexer": "ipython3",
   "version": "3.12.4"
  }
 },
 "nbformat": 4,
 "nbformat_minor": 2
}
